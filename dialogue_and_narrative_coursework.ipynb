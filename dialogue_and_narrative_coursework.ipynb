{
 "cells": [
  {
   "cell_type": "code",
   "execution_count": 428,
   "id": "initial_id",
   "metadata": {
    "collapsed": true,
    "ExecuteTime": {
     "end_time": "2024-01-07T22:44:52.427325200Z",
     "start_time": "2024-01-07T22:44:52.347363200Z"
    }
   },
   "outputs": [
    {
     "name": "stdout",
     "output_type": "stream",
     "text": [
      "The training set has 6592 instances\n",
      "The testing set has 3057 instances\n",
      "The development set has 1104 instances\n"
     ]
    }
   ],
   "source": [
    "import json\n",
    "import numpy as np\n",
    "import pandas as pd\n",
    "\n",
    "train = \"C:/Users/we19383/OneDrive - University of Bristol/Desktop/Foundation Year/COMSM0023_2023_TB1-Dialogue_and_Narrative/data_post-competition/data_post-competition/MD-Agreement_dataset./MD-Agreement_train.json\"\n",
    "test = \"C:/Users/we19383/OneDrive - University of Bristol/Desktop/Foundation Year/COMSM0023_2023_TB1-Dialogue_and_Narrative/data_post-competition/data_post-competition/MD-Agreement_dataset./MD-Agreement_test.json\"\n",
    "dev = \"C:/Users/we19383/OneDrive - University of Bristol/Desktop/Foundation Year/COMSM0023_2023_TB1-Dialogue_and_Narrative/data_post-competition/data_post-competition/MD-Agreement_dataset./MD-Agreement_dev.json\"\n",
    "\n",
    "\n",
    "def load_dataset(train, test, dev):\n",
    "    \"\"\"This function loads, the training, testing and development set based\n",
    "    on the alterations made to the directory variable dir\"\"\"\n",
    "    \n",
    "    with open(train) as f:\n",
    "        train_set = json.load(f)\n",
    "        print(f\"The training set has {len(train_set)} instances\")\n",
    "    with open(test) as g:\n",
    "        test_set = json.load(g)\n",
    "        print(f\"The testing set has {len(test_set)} instances\")\n",
    "    with open(dev) as h:\n",
    "        dev_set = json.load(h)\n",
    "        print(f\"The development set has {len(dev_set)} instances\")\n",
    "        \n",
    "    return train_set, test_set, dev_set\n",
    "\n",
    "train_set, test_set, dev_set = load_dataset(train=train, test=test, dev=dev)"
   ]
  },
  {
   "cell_type": "markdown",
   "source": [
    "The (tentatively) useful metrics of interest from the dataset, for classification are 'text', 'annotators', 'annotations', 'hard labels' and 'soft labels'. So it's necessary to make lists of these from the training set before going through the bag-of-words implementation."
   ],
   "metadata": {
    "collapsed": false
   },
   "id": "59f8608e57d1906c"
  },
  {
   "cell_type": "code",
   "execution_count": 429,
   "outputs": [
    {
     "name": "stdout",
     "output_type": "stream",
     "text": [
      "[{'text': '<user> <user> No way Jose!!', 'annotation task': 'offensiveness detection', 'number of annotations': 5, 'annotations': '0,0,0,0,0', 'annotators': 'Ann418,Ann266,Ann149,Ann730,Ann345', 'lang': 'en', 'hard_label': '0', 'soft_label': {'0': 1.0, '1': 0.0}, 'split': 'train', 'other_info': {'domain': 'Elections2020'}}\n",
      " {'text': 'Good god, what is the matter with people ?', 'annotation task': 'offensiveness detection', 'number of annotations': 5, 'annotations': '0,0,0,0,0', 'annotators': 'Ann733,Ann422,Ann779,Ann514,Ann777', 'lang': 'en', 'hard_label': '0', 'soft_label': {'0': 1.0, '1': 0.0}, 'split': 'train', 'other_info': {'domain': 'Covid-19'}}\n",
      " {'text': '<user> <user> <user> <user> Um the Kurds are helping the ppl Of the Ukraine stop Putin/Russian military from overthrowing the Ukrainian government. Trump Endangered the lives of many by cutting US aid in an effort to extort the Ukrainian president for help winning the election Which led to his impeachment .', 'annotation task': 'offensiveness detection', 'number of annotations': 5, 'annotations': '0,0,0,0,1', 'annotators': 'Ann425,Ann511,Ann779,Ann420,Ann721', 'lang': 'en', 'hard_label': '0', 'soft_label': {'0': 0.8, '1': 0.2}, 'split': 'train', 'other_info': {'domain': 'Elections2020'}}\n",
      " ...\n",
      " {'text': '\"University of Toronto, McMaster University, Sunnybrook HSC &amp; Mount Sinai Hospital claimed to have \"\"isolated the virus\"\".... later admitted they have no record of \"COVID-19 virus\" isolation <url> <url>', 'annotation task': 'offensiveness detection', 'number of annotations': 5, 'annotations': '0,0,0,0,0', 'annotators': 'Ann632,Ann517,Ann514,Ann64,Ann609', 'lang': 'en', 'hard_label': '0', 'soft_label': {'0': 1.0, '1': 0.0}, 'split': 'train', 'other_info': {'domain': 'Covid-19'}}\n",
      " {'text': 'The only people ripping this country apart are your fellow liberal #DemocRATS and your militant concubines In #ANTIFA.', 'annotation task': 'offensiveness detection', 'number of annotations': 5, 'annotations': '0,1,1,0,0', 'annotators': 'Ann493,Ann586,Ann239,Ann347,Ann661', 'lang': 'en', 'hard_label': '0', 'soft_label': {'0': 0.6, '1': 0.4}, 'split': 'train', 'other_info': {'domain': 'BLM'}}\n",
      " {'text': 'Facts!!!  #Repost miss_pr_piggy ・・・ \"Gen Z will sure appreciate this and start spending money with our random 50 year old brand they’ve never heard of immediately!\" -Bob 😌 🥴🥴🥴🥴🥴 #blacklivesmatter #brands #womeninpr1… <url>', 'annotation task': 'offensiveness detection', 'number of annotations': 5, 'annotations': '0,0,0,0,0', 'annotators': 'Ann117,Ann513,Ann755,Ann455,Ann146', 'lang': 'en', 'hard_label': '0', 'soft_label': {'0': 1.0, '1': 0.0}, 'split': 'train', 'other_info': {'domain': 'BLM'}}]\n"
     ]
    }
   ],
   "source": [
    "train_array = np.array(list(train_set.values()))\n",
    "test_array = np.array(list(test_set.values()))\n",
    "dev_array = np.array(list(dev_set.values()))\n",
    "\n",
    "print(train_array)"
   ],
   "metadata": {
    "collapsed": false,
    "ExecuteTime": {
     "end_time": "2024-01-07T22:44:52.481047600Z",
     "start_time": "2024-01-07T22:44:52.427325200Z"
    }
   },
   "id": "d981ff83fd7794c1"
  },
  {
   "cell_type": "code",
   "execution_count": 430,
   "outputs": [],
   "source": [
    "tweet = []\n",
    "hard_label = []\n",
    "\n",
    "for i in range(len(train_array)):\n",
    "    tweet.append(train_array[i]['text'])\n",
    "    hard_label.append(train_array[i]['hard_label'])\n",
    "\n",
    "\n",
    "tweet_pred = []\n",
    "hard_label_pred = []\n",
    "\n",
    "for i in range(len(test_array)):\n",
    "    tweet_pred.append(test_array[i]['text'])\n",
    "    hard_label_pred.append(test_array[i]['hard_label'])\n",
    "        "
   ],
   "metadata": {
    "collapsed": false,
    "ExecuteTime": {
     "end_time": "2024-01-07T22:44:52.482796600Z",
     "start_time": "2024-01-07T22:44:52.442882300Z"
    }
   },
   "id": "2991ccceedafcad5"
  },
  {
   "cell_type": "code",
   "execution_count": 431,
   "outputs": [],
   "source": [
    "from sklearn.feature_extraction.text import CountVectorizer\n",
    "\n",
    "vectorizer = CountVectorizer()\n",
    "vectorizer.fit(tweet)\n",
    "X_train = vectorizer.transform(tweet)\n",
    "X_test = vectorizer.transform(tweet_pred)\n",
    "\n",
    "vocab = vectorizer.vocabulary_"
   ],
   "metadata": {
    "collapsed": false,
    "ExecuteTime": {
     "end_time": "2024-01-07T22:44:52.723936900Z",
     "start_time": "2024-01-07T22:44:52.463466500Z"
    }
   },
   "id": "8f10eefcd707b244"
  },
  {
   "cell_type": "code",
   "execution_count": 432,
   "outputs": [
    {
     "data": {
      "text/plain": "MultinomialNB(force_alpha=True)",
      "text/html": "<style>#sk-container-id-21 {color: black;}#sk-container-id-21 pre{padding: 0;}#sk-container-id-21 div.sk-toggleable {background-color: white;}#sk-container-id-21 label.sk-toggleable__label {cursor: pointer;display: block;width: 100%;margin-bottom: 0;padding: 0.3em;box-sizing: border-box;text-align: center;}#sk-container-id-21 label.sk-toggleable__label-arrow:before {content: \"▸\";float: left;margin-right: 0.25em;color: #696969;}#sk-container-id-21 label.sk-toggleable__label-arrow:hover:before {color: black;}#sk-container-id-21 div.sk-estimator:hover label.sk-toggleable__label-arrow:before {color: black;}#sk-container-id-21 div.sk-toggleable__content {max-height: 0;max-width: 0;overflow: hidden;text-align: left;background-color: #f0f8ff;}#sk-container-id-21 div.sk-toggleable__content pre {margin: 0.2em;color: black;border-radius: 0.25em;background-color: #f0f8ff;}#sk-container-id-21 input.sk-toggleable__control:checked~div.sk-toggleable__content {max-height: 200px;max-width: 100%;overflow: auto;}#sk-container-id-21 input.sk-toggleable__control:checked~label.sk-toggleable__label-arrow:before {content: \"▾\";}#sk-container-id-21 div.sk-estimator input.sk-toggleable__control:checked~label.sk-toggleable__label {background-color: #d4ebff;}#sk-container-id-21 div.sk-label input.sk-toggleable__control:checked~label.sk-toggleable__label {background-color: #d4ebff;}#sk-container-id-21 input.sk-hidden--visually {border: 0;clip: rect(1px 1px 1px 1px);clip: rect(1px, 1px, 1px, 1px);height: 1px;margin: -1px;overflow: hidden;padding: 0;position: absolute;width: 1px;}#sk-container-id-21 div.sk-estimator {font-family: monospace;background-color: #f0f8ff;border: 1px dotted black;border-radius: 0.25em;box-sizing: border-box;margin-bottom: 0.5em;}#sk-container-id-21 div.sk-estimator:hover {background-color: #d4ebff;}#sk-container-id-21 div.sk-parallel-item::after {content: \"\";width: 100%;border-bottom: 1px solid gray;flex-grow: 1;}#sk-container-id-21 div.sk-label:hover label.sk-toggleable__label {background-color: #d4ebff;}#sk-container-id-21 div.sk-serial::before {content: \"\";position: absolute;border-left: 1px solid gray;box-sizing: border-box;top: 0;bottom: 0;left: 50%;z-index: 0;}#sk-container-id-21 div.sk-serial {display: flex;flex-direction: column;align-items: center;background-color: white;padding-right: 0.2em;padding-left: 0.2em;position: relative;}#sk-container-id-21 div.sk-item {position: relative;z-index: 1;}#sk-container-id-21 div.sk-parallel {display: flex;align-items: stretch;justify-content: center;background-color: white;position: relative;}#sk-container-id-21 div.sk-item::before, #sk-container-id-21 div.sk-parallel-item::before {content: \"\";position: absolute;border-left: 1px solid gray;box-sizing: border-box;top: 0;bottom: 0;left: 50%;z-index: -1;}#sk-container-id-21 div.sk-parallel-item {display: flex;flex-direction: column;z-index: 1;position: relative;background-color: white;}#sk-container-id-21 div.sk-parallel-item:first-child::after {align-self: flex-end;width: 50%;}#sk-container-id-21 div.sk-parallel-item:last-child::after {align-self: flex-start;width: 50%;}#sk-container-id-21 div.sk-parallel-item:only-child::after {width: 0;}#sk-container-id-21 div.sk-dashed-wrapped {border: 1px dashed gray;margin: 0 0.4em 0.5em 0.4em;box-sizing: border-box;padding-bottom: 0.4em;background-color: white;}#sk-container-id-21 div.sk-label label {font-family: monospace;font-weight: bold;display: inline-block;line-height: 1.2em;}#sk-container-id-21 div.sk-label-container {text-align: center;}#sk-container-id-21 div.sk-container {/* jupyter's `normalize.less` sets `[hidden] { display: none; }` but bootstrap.min.css set `[hidden] { display: none !important; }` so we also need the `!important` here to be able to override the default hidden behavior on the sphinx rendered scikit-learn.org. See: https://github.com/scikit-learn/scikit-learn/issues/21755 */display: inline-block !important;position: relative;}#sk-container-id-21 div.sk-text-repr-fallback {display: none;}</style><div id=\"sk-container-id-21\" class=\"sk-top-container\"><div class=\"sk-text-repr-fallback\"><pre>MultinomialNB(force_alpha=True)</pre><b>In a Jupyter environment, please rerun this cell to show the HTML representation or trust the notebook. <br />On GitHub, the HTML representation is unable to render, please try loading this page with nbviewer.org.</b></div><div class=\"sk-container\" hidden><div class=\"sk-item\"><div class=\"sk-estimator sk-toggleable\"><input class=\"sk-toggleable__control sk-hidden--visually\" id=\"sk-estimator-id-21\" type=\"checkbox\" checked><label for=\"sk-estimator-id-21\" class=\"sk-toggleable__label sk-toggleable__label-arrow\">MultinomialNB</label><div class=\"sk-toggleable__content\"><pre>MultinomialNB(force_alpha=True)</pre></div></div></div></div></div>"
     },
     "execution_count": 432,
     "metadata": {},
     "output_type": "execute_result"
    }
   ],
   "source": [
    "from sklearn.naive_bayes import MultinomialNB\n",
    "\n",
    "clf = MultinomialNB(force_alpha=True)\n",
    "clf.fit(X_train, hard_label)"
   ],
   "metadata": {
    "collapsed": false,
    "ExecuteTime": {
     "end_time": "2024-01-07T22:44:52.743323Z",
     "start_time": "2024-01-07T22:44:52.723936900Z"
    }
   },
   "id": "ec4bffbecaafc08c"
  },
  {
   "cell_type": "code",
   "execution_count": 433,
   "outputs": [
    {
     "name": "stdout",
     "output_type": "stream",
     "text": [
      "      0\n",
      "0     0\n",
      "1     0\n",
      "2     1\n",
      "3     0\n",
      "4     1\n",
      "...  ..\n",
      "3052  1\n",
      "3053  1\n",
      "3054  0\n",
      "3055  0\n",
      "3056  0\n",
      "\n",
      "[3057 rows x 1 columns]\n"
     ]
    }
   ],
   "source": [
    "prediction = clf.predict(X_test)\n",
    "prediction = pd.DataFrame(prediction)\n",
    "print(prediction)"
   ],
   "metadata": {
    "collapsed": false,
    "ExecuteTime": {
     "end_time": "2024-01-07T22:44:52.766841100Z",
     "start_time": "2024-01-07T22:44:52.748940500Z"
    }
   },
   "id": "e4b33f02fa393b9c"
  },
  {
   "cell_type": "code",
   "execution_count": 434,
   "outputs": [
    {
     "name": "stdout",
     "output_type": "stream",
     "text": [
      "This is accuracy: 0.7386326463853451\n",
      "This is precision: [0.75223759 0.68280467]\n",
      "This is recall: [0.90681707 0.40176817]\n",
      "This is F1 score: [0.822326   0.50587508]\n",
      "0.34403810285999714\n"
     ]
    }
   ],
   "source": [
    "from sklearn import metrics\n",
    "from sklearn.metrics import cohen_kappa_score\n",
    "\n",
    "y_true = hard_label_pred\n",
    "y_pred = prediction\n",
    "\n",
    "accuracy = metrics.accuracy_score(y_true,y_pred)\n",
    "print(f\"This is accuracy: {accuracy}\")\n",
    "\n",
    "precision = metrics.precision_score(y_true, y_pred, average = None)\n",
    "print(f\"This is precision: {precision}\")\n",
    "\n",
    "recall = metrics.recall_score(y_true, y_pred, average = None)\n",
    "print(f\"This is recall: {recall}\")\n",
    "\n",
    "F1 = metrics.f1_score(y_true,y_pred, average = None)\n",
    "print(f\"This is F1 score: {F1}\")\n",
    "\n",
    "print(cohen_kappa_score(y_true, y_pred))"
   ],
   "metadata": {
    "collapsed": false,
    "ExecuteTime": {
     "end_time": "2024-01-07T22:44:52.859814800Z",
     "start_time": "2024-01-07T22:44:52.770210700Z"
    }
   },
   "id": "9ca0414dfcbb4f05"
  },
  {
   "cell_type": "markdown",
   "source": [
    "The next model to be tried will be logistic regression. The metrics will be generated "
   ],
   "metadata": {
    "collapsed": false
   },
   "id": "3b7d4d59992e3ed0"
  },
  {
   "cell_type": "code",
   "execution_count": 435,
   "outputs": [],
   "source": [
    "from sklearn.datasets import load_iris\n",
    "from sklearn.linear_model import LogisticRegression\n",
    "\n",
    "X = X_train\n",
    "y = hard_label\n",
    "\n",
    "clf2 = LogisticRegression(random_state=0, max_iter=13000).fit(X, y)\n",
    "\n",
    "prediction2 = clf2.predict(X_test)\n",
    "prob_pred = clf.predict_proba(X)"
   ],
   "metadata": {
    "collapsed": false,
    "ExecuteTime": {
     "end_time": "2024-01-07T22:44:53.315002200Z",
     "start_time": "2024-01-07T22:44:52.859814800Z"
    }
   },
   "id": "143388f649661c73"
  },
  {
   "cell_type": "code",
   "execution_count": 436,
   "outputs": [
    {
     "name": "stdout",
     "output_type": "stream",
     "text": [
      "This is accuracy: 0.7566241413150148\n",
      "This is precision: [0.77969762 0.68463612]\n",
      "This is recall: [0.88523786 0.49901768]\n",
      "This is F1 score: [0.82912265 0.57727273]\n",
      "0.4122381388502402\n"
     ]
    }
   ],
   "source": [
    "accuracy2 = metrics.accuracy_score(y_true, prediction2)\n",
    "print(\"This is accuracy:\",  accuracy2)\n",
    "\n",
    "precision2 = metrics.precision_score(y_true, prediction2, average = None)\n",
    "print(\"This is precision:\", precision2)\n",
    "\n",
    "recall2 = metrics.recall_score(y_true, prediction2, average = None)\n",
    "print(\"This is recall:\", recall2)\n",
    "\n",
    "F1_2 = metrics.f1_score(y_true, prediction2, average = None)\n",
    "print(\"This is F1 score:\", F1_2)\n",
    "\n",
    "print(cohen_kappa_score(y_true, prediction2))"
   ],
   "metadata": {
    "collapsed": false,
    "ExecuteTime": {
     "end_time": "2024-01-07T22:44:53.373467900Z",
     "start_time": "2024-01-07T22:44:53.320112200Z"
    }
   },
   "id": "b3cd5a68d08bfbf6"
  },
  {
   "cell_type": "markdown",
   "source": [
    "Using a basic neural network classifier on the data before using some kind of metric to model disagreement"
   ],
   "metadata": {
    "collapsed": false
   },
   "id": "aa9f12a2f566e760"
  },
  {
   "cell_type": "code",
   "execution_count": 437,
   "outputs": [
    {
     "name": "stdout",
     "output_type": "stream",
     "text": [
      "                                                text          annotation task  \\\n",
      "1                        <user> <user> No way Jose!!  offensiveness detection   \n",
      "2         Good god, what is the matter with people ?  offensiveness detection   \n",
      "3  <user> <user> <user> <user> Um the Kurds are h...  offensiveness detection   \n",
      "4                   What is WRONG with these people?  offensiveness detection   \n",
      "5  <user> This earpiece too plus a wire on his sl...  offensiveness detection   \n",
      "\n",
      "  number of annotations annotations                          annotators lang  \\\n",
      "1                     5   0,0,0,0,0  Ann418,Ann266,Ann149,Ann730,Ann345   en   \n",
      "2                     5   0,0,0,0,0  Ann733,Ann422,Ann779,Ann514,Ann777   en   \n",
      "3                     5   0,0,0,0,1  Ann425,Ann511,Ann779,Ann420,Ann721   en   \n",
      "4                     5   0,0,0,0,0  Ann632,Ann179,Ann701,Ann201,Ann661   en   \n",
      "5                     5   1,0,0,0,0  Ann266,Ann168,Ann149,Ann381,Ann774   en   \n",
      "\n",
      "  hard_label            soft_label  split                   other_info  \n",
      "1          0  {'0': 1.0, '1': 0.0}  train  {'domain': 'Elections2020'}  \n",
      "2          0  {'0': 1.0, '1': 0.0}  train       {'domain': 'Covid-19'}  \n",
      "3          0  {'0': 0.8, '1': 0.2}  train  {'domain': 'Elections2020'}  \n",
      "4          0  {'0': 1.0, '1': 0.0}  train            {'domain': 'BLM'}  \n",
      "5          0  {'0': 0.8, '1': 0.2}  train  {'domain': 'Elections2020'}  \n"
     ]
    }
   ],
   "source": [
    "tr_df = pd.DataFrame(train_set).transpose()\n",
    "te_df = pd.DataFrame(test_set).transpose()\n",
    "\n",
    "cdf = pd.concat([tr_df, te_df])\n",
    "print(cdf.head())"
   ],
   "metadata": {
    "collapsed": false,
    "ExecuteTime": {
     "end_time": "2024-01-07T22:44:53.501229900Z",
     "start_time": "2024-01-07T22:44:53.346797300Z"
    }
   },
   "id": "9aa0aa8afa207aef"
  },
  {
   "cell_type": "code",
   "execution_count": 438,
   "outputs": [
    {
     "name": "stdout",
     "output_type": "stream",
     "text": [
      "Epoch 1/10\n",
      "148/148 [==============================] - 1s 4ms/step - loss: 0.6412 - accuracy: 0.6928 - val_loss: 0.6301 - val_accuracy: 0.6882\n",
      "Epoch 2/10\n",
      "148/148 [==============================] - 0s 3ms/step - loss: 0.6223 - accuracy: 0.6928 - val_loss: 0.6222 - val_accuracy: 0.6882\n",
      "Epoch 3/10\n",
      "148/148 [==============================] - 0s 3ms/step - loss: 0.6177 - accuracy: 0.6928 - val_loss: 0.6202 - val_accuracy: 0.6882\n",
      "Epoch 4/10\n",
      "148/148 [==============================] - 1s 4ms/step - loss: 0.6155 - accuracy: 0.6928 - val_loss: 0.6178 - val_accuracy: 0.6882\n",
      "Epoch 5/10\n",
      "148/148 [==============================] - 0s 3ms/step - loss: 0.6056 - accuracy: 0.6928 - val_loss: 0.6089 - val_accuracy: 0.6882\n",
      "Epoch 6/10\n",
      "148/148 [==============================] - 1s 3ms/step - loss: 0.5615 - accuracy: 0.6928 - val_loss: 0.5825 - val_accuracy: 0.6882\n",
      "Epoch 7/10\n",
      "148/148 [==============================] - 1s 3ms/step - loss: 0.4574 - accuracy: 0.7961 - val_loss: 0.5610 - val_accuracy: 0.7336\n",
      "Epoch 8/10\n",
      "148/148 [==============================] - 1s 3ms/step - loss: 0.3453 - accuracy: 0.9642 - val_loss: 0.5530 - val_accuracy: 0.7405\n",
      "Epoch 9/10\n",
      "148/148 [==============================] - 0s 3ms/step - loss: 0.2637 - accuracy: 0.9799 - val_loss: 0.5666 - val_accuracy: 0.7336\n",
      "Epoch 10/10\n",
      "148/148 [==============================] - 1s 3ms/step - loss: 0.2086 - accuracy: 0.9873 - val_loss: 0.5946 - val_accuracy: 0.7119\n",
      "91/91 [==============================] - 0s 2ms/step - loss: 0.5963 - accuracy: 0.7136\n",
      "Test Loss: 0.5963459610939026, Test Accuracy: 0.7136442065238953\n"
     ]
    }
   ],
   "source": [
    "import pandas as pd\n",
    "import tensorflow as tf\n",
    "from keras.preprocessing.text import Tokenizer\n",
    "from keras.preprocessing.sequence import pad_sequences\n",
    "from sklearn.model_selection import train_test_split\n",
    "from keras.optimizers import Adam\n",
    "\n",
    "\n",
    "train_df, test_df = train_test_split(cdf, test_size=0.3, random_state=42)\n",
    "\n",
    "# Tokenize the text using the same tokenizer for both training and testing sets\n",
    "max_words = 14000\n",
    "tokenizer = Tokenizer(num_words=max_words, oov_token=\"<OOV>\")\n",
    "tokenizer.fit_on_texts(train_df['text'])\n",
    "\n",
    "train_sequences = tokenizer.texts_to_sequences(train_df['text'])\n",
    "test_sequences = tokenizer.texts_to_sequences(test_df['text'])\n",
    "\n",
    "# Pad sequences\n",
    "max_sequence_length = 100\n",
    "train_padded = pad_sequences(train_sequences, maxlen=max_sequence_length, padding='post', truncating='post')\n",
    "test_padded = pad_sequences(test_sequences, maxlen=max_sequence_length, padding='post', truncating='post')\n",
    "\n",
    "# Convert labels to float32\n",
    "train_labels = train_df['hard_label'].astype('float32')\n",
    "test_labels = test_df['hard_label'].astype('float32')\n",
    "\n",
    "# Build the neural network model\n",
    "model = tf.keras.Sequential([\n",
    "    tf.keras.layers.Embedding(input_dim=max_words, output_dim=16, input_length=max_sequence_length),\n",
    "    tf.keras.layers.Flatten(),\n",
    "    tf.keras.layers.Dense(32, activation='softmax'),\n",
    "    tf.keras.layers.Dense(16, activation='softmax'),\n",
    "    tf.keras.layers.Dense(8, activation='softmax'),\n",
    "    tf.keras.layers.Dense(1, activation='sigmoid')  # Binary classification, so using sigmoid activation\n",
    "])\n",
    "\n",
    "learning_rate = 0.001\n",
    "optimizer = Adam(learning_rate=learning_rate)\n",
    "\n",
    "# Compile the model\n",
    "model.compile(optimizer=optimizer , loss='binary_crossentropy', metrics=['accuracy'])\n",
    "\n",
    "# Train the model\n",
    "model.fit(train_padded, train_labels, epochs=10, validation_split=0.3)\n",
    "\n",
    "# Evaluate the model on the test set\n",
    "loss, accuracy = model.evaluate(test_padded, test_labels)\n",
    "print(f\"Test Loss: {loss}, Test Accuracy: {accuracy}\")\n"
   ],
   "metadata": {
    "collapsed": false,
    "ExecuteTime": {
     "end_time": "2024-01-07T22:44:59.807774900Z",
     "start_time": "2024-01-07T22:44:53.507748800Z"
    }
   },
   "id": "ec76ea2a5547154"
  },
  {
   "cell_type": "code",
   "execution_count": 439,
   "outputs": [
    {
     "name": "stdout",
     "output_type": "stream",
     "text": [
      "91/91 [==============================] - 0s 2ms/step\n",
      "Confusion Matrix:\n",
      "[[1591  408]\n",
      " [ 421  475]]\n"
     ]
    },
    {
     "data": {
      "text/plain": "<Figure size 640x480 with 2 Axes>",
      "image/png": "[encoded data removed]"
     },
     "metadata": {},
     "output_type": "display_data"
    },
    {
     "name": "stdout",
     "output_type": "stream",
     "text": [
      "\n",
      "Classification Report:\n",
      "              precision    recall  f1-score   support\n",
      "\n",
      "         0.0       0.79      0.80      0.79      1999\n",
      "         1.0       0.54      0.53      0.53       896\n",
      "\n",
      "    accuracy                           0.71      2895\n",
      "   macro avg       0.66      0.66      0.66      2895\n",
      "weighted avg       0.71      0.71      0.71      2895\n"
     ]
    }
   ],
   "source": [
    "from sklearn.metrics import confusion_matrix, classification_report\n",
    "import seaborn as sns\n",
    "import matplotlib.pyplot as plt\n",
    "\n",
    "# Make predictions on the test set\n",
    "predictions = model.predict(test_padded)\n",
    "\n",
    "# Convert probability predictions to binary predictions\n",
    "binary_predictions = (predictions > 0.5).astype(int)\n",
    "\n",
    "# Generate the confusion matrix\n",
    "cm = confusion_matrix(test_labels, binary_predictions)\n",
    "\n",
    "# Display the confusion matrix\n",
    "print(\"Confusion Matrix:\")\n",
    "print(cm)\n",
    "\n",
    "# Plot the confusion matrix\n",
    "# Display the confusion matrix using a heatmap\n",
    "sns.heatmap(cm, annot=True, fmt='d', cmap='Blues', xticklabels=['Not Offensive', 'Offensive'], yticklabels=['Not Offensive', 'Offensive'])\n",
    "plt.xlabel('Predicted')\n",
    "plt.ylabel('True')\n",
    "plt.title('Confusion Matrix')\n",
    "plt.show()\n",
    "\n",
    "# Display classification report\n",
    "print(\"\\nClassification Report:\")\n",
    "print(classification_report(test_labels, binary_predictions))\n"
   ],
   "metadata": {
    "collapsed": false,
    "ExecuteTime": {
     "end_time": "2024-01-07T22:45:00.219215800Z",
     "start_time": "2024-01-07T22:44:59.815870300Z"
    }
   },
   "id": "68201067efcdfb1f"
  },
  {
   "cell_type": "markdown",
   "source": [
    "To model agreement, there are a few different metrics we can use: Cohen's Kappa for categorical annotations, Interclass Correlation Coefficient (ICC) for continuous annotations e.g. soft labels in this case and Fleiss' Kappa which extends Cohen's Kappa for more than two. First I'll use Cohen's Kappa and then extend to multi-class classification, using either ICC or Fleiss' Kappa "
   ],
   "metadata": {
    "collapsed": false
   },
   "id": "8fc8c0016b5a540"
  },
  {
   "cell_type": "code",
   "execution_count": 440,
   "outputs": [
    {
     "name": "stdout",
     "output_type": "stream",
     "text": [
      "91/91 [==============================] - 0s 2ms/step\n",
      "Cohen's Kappa: 0.32734217539937704\n",
      "Precision: [0.79075547 0.53793884]\n",
      "Recall: [0.79589795 0.53013393]\n"
     ]
    }
   ],
   "source": [
    "from sklearn.metrics import cohen_kappa_score\n",
    "\n",
    "# Make predictions on the test set\n",
    "predictions = model.predict(test_padded)\n",
    "binary_predictions = (predictions > 0.5).astype(int)\n",
    "\n",
    "# Calculate the agreement metric (Cohen's Kappa)\n",
    "agreement_score = cohen_kappa_score(test_labels, binary_predictions)\n",
    "precision_bin = metrics.precision_score(test_labels, binary_predictions, average=None)\n",
    "recall_bin = metrics.recall_score(test_labels, binary_predictions, average=None)\n",
    "print(\"Cohen's Kappa:\", agreement_score)\n",
    "print(\"Precision:\", precision_bin)\n",
    "print(\"Recall:\", recall_bin)"
   ],
   "metadata": {
    "collapsed": false,
    "ExecuteTime": {
     "end_time": "2024-01-07T22:45:00.476551300Z",
     "start_time": "2024-01-07T22:45:00.224623100Z"
    }
   },
   "id": "2cf8c26bc7e86e83"
  },
  {
   "cell_type": "markdown",
   "source": [],
   "metadata": {
    "collapsed": false
   },
   "id": "7ece3c2f57eb40c1"
  }
 ],
 "metadata": {
  "kernelspec": {
   "display_name": "Python 3",
   "language": "python",
   "name": "python3"
  },
  "language_info": {
   "codemirror_mode": {
    "name": "ipython",
    "version": 2
   },
   "file_extension": ".py",
   "mimetype": "text/x-python",
   "name": "python",
   "nbconvert_exporter": "python",
   "pygments_lexer": "ipython2",
   "version": "2.7.6"
  }
 },
 "nbformat": 4,
 "nbformat_minor": 5
}
